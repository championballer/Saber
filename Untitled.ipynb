{
 "cells": [
  {
   "cell_type": "code",
   "execution_count": 19,
   "metadata": {},
   "outputs": [],
   "source": [
    "import camelot"
   ]
  },
  {
   "cell_type": "code",
   "execution_count": null,
   "metadata": {},
   "outputs": [],
   "source": []
  },
  {
   "cell_type": "code",
   "execution_count": 32,
   "metadata": {},
   "outputs": [],
   "source": [
    "table = camelot.read_pdf('p06.pdf',process_background=True,copy_text=['h'])"
   ]
  },
  {
   "cell_type": "code",
   "execution_count": 33,
   "metadata": {},
   "outputs": [
    {
     "data": {
      "text/plain": [
       "<TableList n=1>"
      ]
     },
     "execution_count": 33,
     "metadata": {},
     "output_type": "execute_result"
    }
   ],
   "source": [
    "table"
   ]
  },
  {
   "cell_type": "code",
   "execution_count": 34,
   "metadata": {},
   "outputs": [
    {
     "data": {
      "text/html": [
       "<div>\n",
       "<style scoped>\n",
       "    .dataframe tbody tr th:only-of-type {\n",
       "        vertical-align: middle;\n",
       "    }\n",
       "\n",
       "    .dataframe tbody tr th {\n",
       "        vertical-align: top;\n",
       "    }\n",
       "\n",
       "    .dataframe thead th {\n",
       "        text-align: right;\n",
       "    }\n",
       "</style>\n",
       "<table border=\"1\" class=\"dataframe\">\n",
       "  <thead>\n",
       "    <tr style=\"text-align: right;\">\n",
       "      <th></th>\n",
       "      <th>0</th>\n",
       "      <th>1</th>\n",
       "      <th>2</th>\n",
       "      <th>3</th>\n",
       "      <th>4</th>\n",
       "      <th>5</th>\n",
       "      <th>6</th>\n",
       "      <th>7</th>\n",
       "      <th>8</th>\n",
       "      <th>9</th>\n",
       "      <th>10</th>\n",
       "    </tr>\n",
       "  </thead>\n",
       "  <tbody>\n",
       "    <tr>\n",
       "      <th>0</th>\n",
       "      <td>TIME/ 8:00-9:00 9:00-10:00 10:00-11:00 11:00-1...</td>\n",
       "      <td>TIME/ 8:00-9:00 9:00-10:00 10:00-11:00 11:00-1...</td>\n",
       "      <td>TIME/ 8:00-9:00 9:00-10:00 10:00-11:00 11:00-1...</td>\n",
       "      <td>TIME/ 8:00-9:00 9:00-10:00 10:00-11:00 11:00-1...</td>\n",
       "      <td>TIME/ 8:00-9:00 9:00-10:00 10:00-11:00 11:00-1...</td>\n",
       "      <td>TIME/ 8:00-9:00 9:00-10:00 10:00-11:00 11:00-1...</td>\n",
       "      <td>TIME/ 8:00-9:00 9:00-10:00 10:00-11:00 11:00-1...</td>\n",
       "      <td>TIME/ 8:00-9:00 9:00-10:00 10:00-11:00 11:00-1...</td>\n",
       "      <td>TIME/ 8:00-9:00 9:00-10:00 10:00-11:00 11:00-1...</td>\n",
       "      <td>TIME/ 8:00-9:00 9:00-10:00 10:00-11:00 11:00-1...</td>\n",
       "      <td>TIME/ 8:00-9:00 9:00-10:00 10:00-11:00 11:00-1...</td>\n",
       "    </tr>\n",
       "    <tr>\n",
       "      <th>1</th>\n",
       "      <td>MONDAY</td>\n",
       "      <td>EO003</td>\n",
       "      <td>EO004</td>\n",
       "      <td>ITD07/EO009</td>\n",
       "      <td>ITC20</td>\n",
       "      <td>EO004(T1) EO004(T2)</td>\n",
       "      <td>EO004(T1) EO004(T2)</td>\n",
       "      <td>EO009(T1) EO009(T2)   ITD07(FH)</td>\n",
       "      <td>EO009(T1) EO009(T2)   ITD07(FH)</td>\n",
       "      <td>ITD07(SH)</td>\n",
       "      <td>ITD07(SH)</td>\n",
       "    </tr>\n",
       "    <tr>\n",
       "      <th>2</th>\n",
       "      <td>TUESDAY</td>\n",
       "      <td></td>\n",
       "      <td></td>\n",
       "      <td>ITD12</td>\n",
       "      <td>ITD18/EO005</td>\n",
       "      <td>ITC19</td>\n",
       "      <td>ITC19</td>\n",
       "      <td>ITD18(T1)</td>\n",
       "      <td>ITD18(T2)</td>\n",
       "      <td>EO004</td>\n",
       "      <td>ITC21</td>\n",
       "    </tr>\n",
       "    <tr>\n",
       "      <th>3</th>\n",
       "      <td>WEDNESDAY</td>\n",
       "      <td>ITC21</td>\n",
       "      <td>ITC20</td>\n",
       "      <td>ITC19(T1) ITC20(T2)</td>\n",
       "      <td>EO003</td>\n",
       "      <td>EO003(T1)</td>\n",
       "      <td>EO003(T2)</td>\n",
       "      <td></td>\n",
       "      <td>ITC19</td>\n",
       "      <td>Free slot for seminars/ meetings etc.</td>\n",
       "      <td>Free slot for seminars/ meetings etc.</td>\n",
       "    </tr>\n",
       "    <tr>\n",
       "      <th>4</th>\n",
       "      <td>THURSDAY</td>\n",
       "      <td>EO004</td>\n",
       "      <td>ITD07/ EO009</td>\n",
       "      <td>ITD18/EO005</td>\n",
       "      <td>ITD12</td>\n",
       "      <td>EO005(T1)</td>\n",
       "      <td>EO005(T2)</td>\n",
       "      <td>ITC19(T2) ITD12(FH) ITD12(SH) ITC20(T1)</td>\n",
       "      <td>ITC19(T2) ITD12(FH) ITD12(SH) ITC20(T1)</td>\n",
       "      <td>ITC19(T2) ITD12(FH) ITD12(SH) ITC20(T1)</td>\n",
       "      <td></td>\n",
       "    </tr>\n",
       "    <tr>\n",
       "      <th>5</th>\n",
       "      <td>FRIDAY</td>\n",
       "      <td>ITD07/ EO009</td>\n",
       "      <td>EO003</td>\n",
       "      <td>ITC20</td>\n",
       "      <td>ITC21</td>\n",
       "      <td>ITC21(FH) ITC21(SH)</td>\n",
       "      <td>ITC21(FH) ITC21(SH)</td>\n",
       "      <td>ITD12</td>\n",
       "      <td>ITD18/EO005</td>\n",
       "      <td>ITC19</td>\n",
       "      <td></td>\n",
       "    </tr>\n",
       "  </tbody>\n",
       "</table>\n",
       "</div>"
      ],
      "text/plain": [
       "                                                  0   \\\n",
       "0  TIME/ 8:00-9:00 9:00-10:00 10:00-11:00 11:00-1...   \n",
       "1                                             MONDAY   \n",
       "2                                            TUESDAY   \n",
       "3                                          WEDNESDAY   \n",
       "4                                           THURSDAY   \n",
       "5                                             FRIDAY   \n",
       "\n",
       "                                                  1   \\\n",
       "0  TIME/ 8:00-9:00 9:00-10:00 10:00-11:00 11:00-1...   \n",
       "1                                              EO003   \n",
       "2                                                      \n",
       "3                                              ITC21   \n",
       "4                                              EO004   \n",
       "5                                       ITD07/ EO009   \n",
       "\n",
       "                                                  2   \\\n",
       "0  TIME/ 8:00-9:00 9:00-10:00 10:00-11:00 11:00-1...   \n",
       "1                                              EO004   \n",
       "2                                                      \n",
       "3                                              ITC20   \n",
       "4                                       ITD07/ EO009   \n",
       "5                                              EO003   \n",
       "\n",
       "                                                  3   \\\n",
       "0  TIME/ 8:00-9:00 9:00-10:00 10:00-11:00 11:00-1...   \n",
       "1                                        ITD07/EO009   \n",
       "2                                              ITD12   \n",
       "3                                ITC19(T1) ITC20(T2)   \n",
       "4                                        ITD18/EO005   \n",
       "5                                              ITC20   \n",
       "\n",
       "                                                  4   \\\n",
       "0  TIME/ 8:00-9:00 9:00-10:00 10:00-11:00 11:00-1...   \n",
       "1                                              ITC20   \n",
       "2                                        ITD18/EO005   \n",
       "3                                              EO003   \n",
       "4                                              ITD12   \n",
       "5                                              ITC21   \n",
       "\n",
       "                                                  5   \\\n",
       "0  TIME/ 8:00-9:00 9:00-10:00 10:00-11:00 11:00-1...   \n",
       "1                                EO004(T1) EO004(T2)   \n",
       "2                                              ITC19   \n",
       "3                                          EO003(T1)   \n",
       "4                                          EO005(T1)   \n",
       "5                                ITC21(FH) ITC21(SH)   \n",
       "\n",
       "                                                  6   \\\n",
       "0  TIME/ 8:00-9:00 9:00-10:00 10:00-11:00 11:00-1...   \n",
       "1                                EO004(T1) EO004(T2)   \n",
       "2                                              ITC19   \n",
       "3                                          EO003(T2)   \n",
       "4                                          EO005(T2)   \n",
       "5                                ITC21(FH) ITC21(SH)   \n",
       "\n",
       "                                                  7   \\\n",
       "0  TIME/ 8:00-9:00 9:00-10:00 10:00-11:00 11:00-1...   \n",
       "1                    EO009(T1) EO009(T2)   ITD07(FH)   \n",
       "2                                          ITD18(T1)   \n",
       "3                                                      \n",
       "4            ITC19(T2) ITD12(FH) ITD12(SH) ITC20(T1)   \n",
       "5                                              ITD12   \n",
       "\n",
       "                                                  8   \\\n",
       "0  TIME/ 8:00-9:00 9:00-10:00 10:00-11:00 11:00-1...   \n",
       "1                    EO009(T1) EO009(T2)   ITD07(FH)   \n",
       "2                                          ITD18(T2)   \n",
       "3                                              ITC19   \n",
       "4            ITC19(T2) ITD12(FH) ITD12(SH) ITC20(T1)   \n",
       "5                                        ITD18/EO005   \n",
       "\n",
       "                                                  9   \\\n",
       "0  TIME/ 8:00-9:00 9:00-10:00 10:00-11:00 11:00-1...   \n",
       "1                                          ITD07(SH)   \n",
       "2                                              EO004   \n",
       "3              Free slot for seminars/ meetings etc.   \n",
       "4            ITC19(T2) ITD12(FH) ITD12(SH) ITC20(T1)   \n",
       "5                                              ITC19   \n",
       "\n",
       "                                                  10  \n",
       "0  TIME/ 8:00-9:00 9:00-10:00 10:00-11:00 11:00-1...  \n",
       "1                                          ITD07(SH)  \n",
       "2                                              ITC21  \n",
       "3              Free slot for seminars/ meetings etc.  \n",
       "4                                                     \n",
       "5                                                     "
      ]
     },
     "execution_count": 34,
     "metadata": {},
     "output_type": "execute_result"
    }
   ],
   "source": [
    "table[0].df"
   ]
  },
  {
   "cell_type": "code",
   "execution_count": 35,
   "metadata": {},
   "outputs": [
    {
     "data": {
      "text/plain": [
       "<Table shape=(6, 11)>"
      ]
     },
     "execution_count": 35,
     "metadata": {},
     "output_type": "execute_result"
    }
   ],
   "source": [
    "table[0]"
   ]
  },
  {
   "cell_type": "code",
   "execution_count": 36,
   "metadata": {},
   "outputs": [],
   "source": [
    "table.export('out.csv', f='csv', compress=False)"
   ]
  },
  {
   "cell_type": "code",
   "execution_count": 37,
   "metadata": {},
   "outputs": [
    {
     "data": {
      "text/plain": [
       "{'accuracy': 96.39, 'whitespace': 7.58, 'order': 1, 'page': 1}"
      ]
     },
     "execution_count": 37,
     "metadata": {},
     "output_type": "execute_result"
    }
   ],
   "source": [
    "table[0].parsing_report"
   ]
  },
  {
   "cell_type": "code",
   "execution_count": 38,
   "metadata": {},
   "outputs": [],
   "source": [
    "table[0].to_excel('out.xls')"
   ]
  },
  {
   "cell_type": "code",
   "execution_count": null,
   "metadata": {},
   "outputs": [],
   "source": []
  }
 ],
 "metadata": {
  "kernelspec": {
   "display_name": "Python 3",
   "language": "python",
   "name": "python3"
  },
  "language_info": {
   "codemirror_mode": {
    "name": "ipython",
    "version": 3
   },
   "file_extension": ".py",
   "mimetype": "text/x-python",
   "name": "python",
   "nbconvert_exporter": "python",
   "pygments_lexer": "ipython3",
   "version": "3.6.6"
  }
 },
 "nbformat": 4,
 "nbformat_minor": 2
}
